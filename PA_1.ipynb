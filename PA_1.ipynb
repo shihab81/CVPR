{
  "nbformat": 4,
  "nbformat_minor": 0,
  "metadata": {
    "accelerator": "GPU",
    "colab": {
      "name": "PA-1.ipynb",
      "provenance": []
    },
    "kernelspec": {
      "display_name": "Python 3",
      "language": "python",
      "name": "python3"
    },
    "language_info": {
      "codemirror_mode": {
        "name": "ipython",
        "version": 3
      },
      "file_extension": ".py",
      "mimetype": "text/x-python",
      "name": "python",
      "nbconvert_exporter": "python",
      "pygments_lexer": "ipython3",
      "version": "3.8.5"
    }
  },
  "cells": [
    {
      "cell_type": "code",
      "metadata": {
        "id": "COhcnVwnY1nn"
      },
      "source": [
        "import tensorflow as tf\n",
        "from tensorflow import keras\n",
        "from tensorflow.keras import layers\n",
        "from tensorflow.keras.datasets import mnist\n",
        "\n",
        "from tensorflow.keras.datasets import mnist\n",
        "from tensorflow.keras.utils import to_categorical\n",
        "from tensorflow.keras import layers\n",
        "from tensorflow.keras import models\n",
        "\n",
        "import os\n",
        "import random\n",
        "import numpy as np\n",
        "import matplotlib.pyplot as plt\n",
        "%matplotlib inline\n"
      ],
      "execution_count": 1,
      "outputs": []
    },
    {
      "cell_type": "code",
      "metadata": {
        "colab": {
          "base_uri": "https://localhost:8080/"
        },
        "id": "UgFSPoWIjxG1",
        "outputId": "0cb656d3-b50b-43e1-c657-b56caa17b9e4"
      },
      "source": [
        "(train_images, train_labels), (test_images, test_labels) = mnist.load_data()\n",
        "print(train_images.shape, train_labels.shape)\n",
        "print(test_images.shape, test_labels.shape)"
      ],
      "execution_count": 2,
      "outputs": [
        {
          "output_type": "stream",
          "text": [
            "(60000, 28, 28) (60000,)\n",
            "(10000, 28, 28) (10000,)\n"
          ],
          "name": "stdout"
        }
      ]
    },
    {
      "cell_type": "code",
      "metadata": {
        "id": "ske2HdXd3Y5Z"
      },
      "source": [
        "train_images = train_images.reshape((60000, 28, 28, 1))\n",
        "#train_images = train_images.astype('float32') / 255\n",
        "\n",
        "test_images = test_images.reshape((10000, 28, 28, 1))\n",
        "#test_images = test_images.astype('float32') / 255"
      ],
      "execution_count": 3,
      "outputs": []
    },
    {
      "cell_type": "code",
      "metadata": {
        "id": "cckkL4323jip",
        "colab": {
          "base_uri": "https://localhost:8080/"
        },
        "outputId": "df30e789-bbf3-42bf-98e6-eca43e8478fe"
      },
      "source": [
        "model = keras.Sequential([\n",
        "    ## input layer\n",
        "    keras.Input(shape=(28,28,1)),\n",
        "    \n",
        "    ## hidden layers\n",
        "    layers.Conv2D(filters=32, kernel_size=(5,5), activation='relu'),\n",
        "    layers.MaxPooling2D(pool_size=(2,2)),\n",
        "    layers.Conv2D(filters=64, kernel_size=(3,3), activation='relu'),\n",
        "    layers.MaxPooling2D(pool_size=(2,2)),\n",
        "    layers.Conv2D(filters=64, kernel_size=(3,3), activation='relu'),\n",
        "    layers.MaxPooling2D(pool_size=(2,2)),\n",
        "    \n",
        "    layers.Flatten(),\n",
        "    layers.Dense(64, activation='relu'),\n",
        "    \n",
        "    ## output layer\n",
        "    layers.Dense(10, activation='softmax')\n",
        "])\n",
        "model.summary()"
      ],
      "execution_count": 4,
      "outputs": [
        {
          "output_type": "stream",
          "text": [
            "WARNING:tensorflow:Please add `keras.layers.InputLayer` instead of `keras.Input` to Sequential model. `keras.Input` is intended to be used by Functional model.\n",
            "Model: \"sequential\"\n",
            "_________________________________________________________________\n",
            "Layer (type)                 Output Shape              Param #   \n",
            "=================================================================\n",
            "conv2d (Conv2D)              (None, 24, 24, 32)        832       \n",
            "_________________________________________________________________\n",
            "max_pooling2d (MaxPooling2D) (None, 12, 12, 32)        0         \n",
            "_________________________________________________________________\n",
            "conv2d_1 (Conv2D)            (None, 10, 10, 64)        18496     \n",
            "_________________________________________________________________\n",
            "max_pooling2d_1 (MaxPooling2 (None, 5, 5, 64)          0         \n",
            "_________________________________________________________________\n",
            "conv2d_2 (Conv2D)            (None, 3, 3, 64)          36928     \n",
            "_________________________________________________________________\n",
            "max_pooling2d_2 (MaxPooling2 (None, 1, 1, 64)          0         \n",
            "_________________________________________________________________\n",
            "flatten (Flatten)            (None, 64)                0         \n",
            "_________________________________________________________________\n",
            "dense (Dense)                (None, 64)                4160      \n",
            "_________________________________________________________________\n",
            "dense_1 (Dense)              (None, 10)                650       \n",
            "=================================================================\n",
            "Total params: 61,066\n",
            "Trainable params: 61,066\n",
            "Non-trainable params: 0\n",
            "_________________________________________________________________\n"
          ],
          "name": "stdout"
        }
      ]
    },
    {
      "cell_type": "code",
      "metadata": {
        "colab": {
          "base_uri": "https://localhost:8080/"
        },
        "id": "h0nF0p5834v0",
        "outputId": "d987330f-cc9e-46ae-bde0-a7a1061a0c64"
      },
      "source": [
        "model.compile( optimizer='adam', loss='sparse_categorical_crossentropy', metrics=['accuracy'] )\n",
        "\n",
        "h= model.fit(x=train_images, y=train_labels, epochs=15,validation_split=0.2, batch_size=32)"
      ],
      "execution_count": 5,
      "outputs": [
        {
          "output_type": "stream",
          "text": [
            "Epoch 1/15\n",
            "1500/1500 [==============================] - 7s 3ms/step - loss: 0.3416 - accuracy: 0.9207 - val_loss: 0.0953 - val_accuracy: 0.9702\n",
            "Epoch 2/15\n",
            "1500/1500 [==============================] - 4s 3ms/step - loss: 0.0913 - accuracy: 0.9725 - val_loss: 0.0729 - val_accuracy: 0.9766\n",
            "Epoch 3/15\n",
            "1500/1500 [==============================] - 4s 3ms/step - loss: 0.0728 - accuracy: 0.9780 - val_loss: 0.0863 - val_accuracy: 0.9731\n",
            "Epoch 4/15\n",
            "1500/1500 [==============================] - 5s 3ms/step - loss: 0.0628 - accuracy: 0.9808 - val_loss: 0.0665 - val_accuracy: 0.9825\n",
            "Epoch 5/15\n",
            "1500/1500 [==============================] - 5s 3ms/step - loss: 0.0584 - accuracy: 0.9820 - val_loss: 0.0847 - val_accuracy: 0.9787\n",
            "Epoch 6/15\n",
            "1500/1500 [==============================] - 4s 3ms/step - loss: 0.0467 - accuracy: 0.9863 - val_loss: 0.0780 - val_accuracy: 0.9800\n",
            "Epoch 7/15\n",
            "1500/1500 [==============================] - 4s 3ms/step - loss: 0.0464 - accuracy: 0.9865 - val_loss: 0.0650 - val_accuracy: 0.9833\n",
            "Epoch 8/15\n",
            "1500/1500 [==============================] - 4s 3ms/step - loss: 0.0413 - accuracy: 0.9883 - val_loss: 0.0599 - val_accuracy: 0.9849\n",
            "Epoch 9/15\n",
            "1500/1500 [==============================] - 4s 3ms/step - loss: 0.0381 - accuracy: 0.9888 - val_loss: 0.0862 - val_accuracy: 0.9812\n",
            "Epoch 10/15\n",
            "1500/1500 [==============================] - 5s 3ms/step - loss: 0.0321 - accuracy: 0.9903 - val_loss: 0.0788 - val_accuracy: 0.9815\n",
            "Epoch 11/15\n",
            "1500/1500 [==============================] - 5s 3ms/step - loss: 0.0340 - accuracy: 0.9901 - val_loss: 0.0658 - val_accuracy: 0.9862\n",
            "Epoch 12/15\n",
            "1500/1500 [==============================] - 5s 3ms/step - loss: 0.0293 - accuracy: 0.9916 - val_loss: 0.1246 - val_accuracy: 0.9769\n",
            "Epoch 13/15\n",
            "1500/1500 [==============================] - 5s 3ms/step - loss: 0.0265 - accuracy: 0.9923 - val_loss: 0.0825 - val_accuracy: 0.9822\n",
            "Epoch 14/15\n",
            "1500/1500 [==============================] - 5s 3ms/step - loss: 0.0268 - accuracy: 0.9920 - val_loss: 0.0814 - val_accuracy: 0.9822\n",
            "Epoch 15/15\n",
            "1500/1500 [==============================] - 4s 3ms/step - loss: 0.0248 - accuracy: 0.9930 - val_loss: 0.0730 - val_accuracy: 0.9844\n"
          ],
          "name": "stdout"
        }
      ]
    },
    {
      "cell_type": "code",
      "metadata": {
        "colab": {
          "base_uri": "https://localhost:8080/",
          "height": 334
        },
        "id": "92Bw5d7YU51c",
        "outputId": "7db9a189-7600-4eac-ae28-1259466564af"
      },
      "source": [
        "plt.figure(figsize=(15,5))\n",
        "plt.subplot(1,2,1)\n",
        "plt.plot(h.history['accuracy'], 'o-', label='train accuracy')\n",
        "plt.plot(h.history['val_accuracy'], 'o-', label = 'validation accuracy')\n",
        "plt.xlabel('Epoch')\n",
        "plt.ylabel('Accuracy')\n",
        "plt.grid(True)\n",
        "plt.legend(loc='lower right')\n",
        "\n",
        "plt.subplot(1,2,2)\n",
        "plt.plot(h.history['loss'], 'o-', label='train loss')\n",
        "plt.plot(h.history['val_loss'], 'o-', label='validation loss')\n",
        "plt.xlabel('Epoch')\n",
        "plt.ylabel('Loss')\n",
        "plt.grid(True)\n",
        "plt.legend(loc='upper right')\n",
        "\n",
        "plt.show()"
      ],
      "execution_count": 6,
      "outputs": [
        {
          "output_type": "display_data",
          "data": {
            "image/png": "[encoded data removed]",
            "text/plain": [
              "<Figure size 1080x360 with 2 Axes>"
            ]
          },
          "metadata": {
            "tags": [],
            "needs_background": "light"
          }
        }
      ]
    },
    {
      "cell_type": "code",
      "metadata": {
        "colab": {
          "base_uri": "https://localhost:8080/"
        },
        "id": "NF7PGVj54OOP",
        "outputId": "ffd2fa6f-4fb2-4c2a-934a-040fa1ac4c86"
      },
      "source": [
        "test_loss, test_acc = model.evaluate(test_images, test_labels)\n",
        "test_acc\n",
        "test_loss"
      ],
      "execution_count": 7,
      "outputs": [
        {
          "output_type": "stream",
          "text": [
            "313/313 [==============================] - 1s 3ms/step - loss: 0.0639 - accuracy: 0.9851\n"
          ],
          "name": "stdout"
        },
        {
          "output_type": "execute_result",
          "data": {
            "text/plain": [
              "0.06385025382041931"
            ]
          },
          "metadata": {
            "tags": []
          },
          "execution_count": 7
        }
      ]
    },
    {
      "cell_type": "markdown",
      "metadata": {
        "id": "Wphc1KfEVwDK"
      },
      "source": [
        "adam accuracy = 98.59%\n",
        "sgd accuracy  =98.44%\n",
        "rmsprop accuracy =98.47%\n",
        "without normalization adam accuracy = 98.51%"
      ]
    },
    {
      "cell_type": "code",
      "metadata": {
        "id": "qveOg_jd4aWt"
      },
      "source": [
        ""
      ],
      "execution_count": 7,
      "outputs": []
    }
  ]
}